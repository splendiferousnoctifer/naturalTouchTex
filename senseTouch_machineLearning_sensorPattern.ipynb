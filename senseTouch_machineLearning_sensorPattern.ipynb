{
  "nbformat": 4,
  "nbformat_minor": 0,
  "metadata": {
    "colab": {
      "provenance": [],
      "collapsed_sections": [
        "OnNK7UKYExVR",
        "mJtEGsdJpHsD",
        "OagimGp063tl",
        "EOcTCyaauW20",
        "V-drK7PiurGW",
        "QeMqkLrMurGW"
      ],
      "toc_visible": true,
      "include_colab_link": true
    },
    "kernelspec": {
      "name": "python3",
      "display_name": "Python 3"
    },
    "language_info": {
      "name": "python"
    }
  },
  "cells": [
    {
      "cell_type": "markdown",
      "metadata": {
        "id": "view-in-github",
        "colab_type": "text"
      },
      "source": [
        "<a href=\"https://colab.research.google.com/github/splendiferousnoctifer/naturalTouchTex/blob/main/senseTouch_machineLearning_sensorPattern.ipynb\" target=\"_parent\"><img src=\"https://colab.research.google.com/assets/colab-badge.svg\" alt=\"Open In Colab\"/></a>"
      ]
    },
    {
      "cell_type": "markdown",
      "source": [
        "# Comparison of different Sensor-Patterns\n",
        "Trial of different Sensorpatterns for optimisation od Sensor placement and amount."
      ],
      "metadata": {
        "id": "-3VDxVdbVyky"
      }
    },
    {
      "cell_type": "code",
      "source": [
        "#@markdown Use real data:\n",
        "real_data = True #@param {type:\"boolean\"}\n",
        "\n",
        "#@markdown Data creation parameters:\n",
        "\n",
        "sample_number = 1000 #@param {type:\"number\"}\n",
        "data_point_dimension = 7  #@param {type: \"number\"}\n",
        "\n",
        "add_noise = True #@param {type:\"boolean\"}\n",
        "noise_amount = 0.01 #@param {type: \"number\"}\n",
        "\n",
        "#@markdown Train-Test Split parameters:\n",
        "\n",
        "test_size_split = 0.33 #@param {type:\"number\"}\n",
        "data_split_shuffle = True #@param {type:\"boolean\"}"
      ],
      "metadata": {
        "cellView": "form",
        "id": "iJqvohbpYsID"
      },
      "execution_count": null,
      "outputs": []
    },
    {
      "cell_type": "markdown",
      "source": [
        "# Setup"
      ],
      "metadata": {
        "id": "9_KbRKMRb7Zj"
      }
    },
    {
      "cell_type": "markdown",
      "source": [
        "## Imports"
      ],
      "metadata": {
        "id": "OnNK7UKYExVR"
      }
    },
    {
      "cell_type": "code",
      "source": [
        "import random\n",
        "import numpy as np\n",
        "import pandas as pd\n",
        "from matplotlib import cm\n",
        "import matplotlib.pyplot as plt \n",
        "from sklearn import linear_model\n",
        "import plotly.graph_objects as go\n",
        "from plotly.subplots import make_subplots\n",
        "from sklearn.pipeline import make_pipeline\n",
        "from sklearn.tree import DecisionTreeRegressor\n",
        "from sklearn.preprocessing import StandardScaler\n",
        "from sklearn.model_selection import GridSearchCV\n",
        "from sklearn.linear_model import LinearRegression\n",
        "from sklearn.ensemble import RandomForestRegressor\n",
        "from sklearn.preprocessing import PolynomialFeatures\n",
        "from sklearn.model_selection import train_test_split\n",
        "from sklearn.ensemble import GradientBoostingClassifier\n",
        "from sklearn.metrics import r2_score, mean_absolute_error, mean_squared_error\n",
        "from scipy.interpolate import interp2d, SmoothBivariateSpline, RectBivariateSpline\n",
        "\n",
        "np.set_printoptions(suppress=True) # don't use scientific notation\n",
        "PATH = '/content/drive/MyDrive/mil/data/analytics/'\n"
      ],
      "metadata": {
        "id": "o18DRCkvulHk"
      },
      "execution_count": null,
      "outputs": []
    },
    {
      "cell_type": "markdown",
      "source": [
        "## Data"
      ],
      "metadata": {
        "id": "mJtEGsdJpHsD"
      }
    },
    {
      "cell_type": "code",
      "source": [
        "w, h = 1,1\n",
        "samples = sample_number\n",
        "\n",
        "p =  []\n",
        "for i in range(samples):\n",
        "  mod_x = random.randint(1,99) / 100\n",
        "  mod_y = random.randint(10,90) / 100\n",
        "  mod_z = random.randint(-100,100) / 10000\n",
        "\n",
        "  p.append((w * mod_x, h * mod_y, 0.2 + mod_z)) # press position and depth in centimeters\n",
        "\n",
        "p.append((0.5, 0.5, 0)) #no indent for delta calculation\n",
        "\n",
        "p = np.asarray(p)"
      ],
      "metadata": {
        "id": "yBQEooAbzUwS"
      },
      "execution_count": null,
      "outputs": []
    },
    {
      "cell_type": "code",
      "source": [
        "z_data = []\n",
        "\n",
        "N = data_point_dimension # data points in each dimension\n",
        "x = np.linspace(0,w,N)\n",
        "y = np.linspace(0,h,N)\n",
        "\n",
        "for i in range(samples + 1):\n",
        "  cond = np.zeros((3,3))\n",
        "  cond[1,1] = p[i,2]\n",
        "\n",
        "  f = interp2d([0, p[i,0], w], [0, p[i,1], h], cond, kind='linear')\n",
        "  z_data.append(f( x, y ))\n",
        "\n",
        "x_data = np.asarray([[x]*N]*(samples+1))\n",
        "y_data = np.asarray([np.asarray([y]*N).T] * (samples+1))\n",
        "z_data = np.asarray(z_data)\n"
      ],
      "metadata": {
        "id": "xOetvm7BCdp2"
      },
      "execution_count": null,
      "outputs": []
    },
    {
      "cell_type": "markdown",
      "source": [
        "**Flat Textile**"
      ],
      "metadata": {
        "id": "97aFwhF2X7Lq"
      }
    },
    {
      "cell_type": "code",
      "source": [
        "fig = go.Figure(\n",
        "    data=[\n",
        "          go.Scatter3d(x=x_data[-1].flatten(), y=y_data[-1].flatten(), z=z_data[-1].flatten())#, mode='markers', marker=dict(size=5, color='red')),\n",
        "        ]\n",
        ")\n",
        "\n",
        "\n",
        "scene = dict(\n",
        "  xaxis = dict(nticks=4, range=[-0.1,1.1],),\n",
        "  yaxis = dict(nticks=4, range=[-0.1,1.1],),\n",
        "  zaxis = dict(nticks=4, range=[-1,1],)\n",
        ")\n",
        "\n",
        "fig.update_layout()# scene = scene)\n",
        "\n",
        "fig.show()"
      ],
      "metadata": {
        "colab": {
          "base_uri": "https://localhost:8080/"
        },
        "id": "GSBKh3c95kw1",
        "outputId": "700ff7f2-deb5-421e-8893-c60f309758ae"
      },
      "execution_count": null,
      "outputs": [
        {
          "output_type": "display_data",
          "data": {
            "text/html": [
              "<html>\n",
              "<head><meta charset=\"utf-8\" /></head>\n",
              "<body>\n",
              "    <div>            <script src=\"https://cdnjs.cloudflare.com/ajax/libs/mathjax/2.7.5/MathJax.js?config=TeX-AMS-MML_SVG\"></script><script type=\"text/javascript\">if (window.MathJax) {MathJax.Hub.Config({SVG: {font: \"STIX-Web\"}});}</script>                <script type=\"text/javascript\">window.PlotlyConfig = {MathJaxConfig: 'local'};</script>\n",
              "        <script src=\"https://cdn.plot.ly/plotly-2.8.3.min.js\"></script>                <div id=\"9f3a2a43-734e-465f-8ca4-b1ec00fe455c\" class=\"plotly-graph-div\" style=\"height:525px; width:100%;\"></div>            <script type=\"text/javascript\">                                    window.PLOTLYENV=window.PLOTLYENV || {};                                    if (document.getElementById(\"9f3a2a43-734e-465f-8ca4-b1ec00fe455c\")) {                    Plotly.newPlot(                        \"9f3a2a43-734e-465f-8ca4-b1ec00fe455c\",                        [{\"x\":[0.0,0.16666666666666666,0.3333333333333333,0.5,0.6666666666666666,0.8333333333333333,1.0,0.0,0.16666666666666666,0.3333333333333333,0.5,0.6666666666666666,0.8333333333333333,1.0,0.0,0.16666666666666666,0.3333333333333333,0.5,0.6666666666666666,0.8333333333333333,1.0,0.0,0.16666666666666666,0.3333333333333333,0.5,0.6666666666666666,0.8333333333333333,1.0,0.0,0.16666666666666666,0.3333333333333333,0.5,0.6666666666666666,0.8333333333333333,1.0,0.0,0.16666666666666666,0.3333333333333333,0.5,0.6666666666666666,0.8333333333333333,1.0,0.0,0.16666666666666666,0.3333333333333333,0.5,0.6666666666666666,0.8333333333333333,1.0],\"y\":[0.0,0.0,0.0,0.0,0.0,0.0,0.0,0.16666666666666666,0.16666666666666666,0.16666666666666666,0.16666666666666666,0.16666666666666666,0.16666666666666666,0.16666666666666666,0.3333333333333333,0.3333333333333333,0.3333333333333333,0.3333333333333333,0.3333333333333333,0.3333333333333333,0.3333333333333333,0.5,0.5,0.5,0.5,0.5,0.5,0.5,0.6666666666666666,0.6666666666666666,0.6666666666666666,0.6666666666666666,0.6666666666666666,0.6666666666666666,0.6666666666666666,0.8333333333333333,0.8333333333333333,0.8333333333333333,0.8333333333333333,0.8333333333333333,0.8333333333333333,0.8333333333333333,1.0,1.0,1.0,1.0,1.0,1.0,1.0],\"z\":[0.0,0.0,0.0,0.0,0.0,0.0,0.0,0.0,0.0,0.0,0.0,0.0,0.0,0.0,0.0,0.0,0.0,0.0,0.0,0.0,0.0,0.0,0.0,0.0,0.0,0.0,0.0,0.0,0.0,0.0,0.0,0.0,0.0,0.0,0.0,0.0,0.0,0.0,0.0,0.0,0.0,0.0,0.0,0.0,0.0,0.0,0.0,0.0,0.0],\"type\":\"scatter3d\"}],                        {\"template\":{\"data\":{\"bar\":[{\"error_x\":{\"color\":\"#2a3f5f\"},\"error_y\":{\"color\":\"#2a3f5f\"},\"marker\":{\"line\":{\"color\":\"#E5ECF6\",\"width\":0.5},\"pattern\":{\"fillmode\":\"overlay\",\"size\":10,\"solidity\":0.2}},\"type\":\"bar\"}],\"barpolar\":[{\"marker\":{\"line\":{\"color\":\"#E5ECF6\",\"width\":0.5},\"pattern\":{\"fillmode\":\"overlay\",\"size\":10,\"solidity\":0.2}},\"type\":\"barpolar\"}],\"carpet\":[{\"aaxis\":{\"endlinecolor\":\"#2a3f5f\",\"gridcolor\":\"white\",\"linecolor\":\"white\",\"minorgridcolor\":\"white\",\"startlinecolor\":\"#2a3f5f\"},\"baxis\":{\"endlinecolor\":\"#2a3f5f\",\"gridcolor\":\"white\",\"linecolor\":\"white\",\"minorgridcolor\":\"white\",\"startlinecolor\":\"#2a3f5f\"},\"type\":\"carpet\"}],\"choropleth\":[{\"colorbar\":{\"outlinewidth\":0,\"ticks\":\"\"},\"type\":\"choropleth\"}],\"contour\":[{\"colorbar\":{\"outlinewidth\":0,\"ticks\":\"\"},\"colorscale\":[[0.0,\"#0d0887\"],[0.1111111111111111,\"#46039f\"],[0.2222222222222222,\"#7201a8\"],[0.3333333333333333,\"#9c179e\"],[0.4444444444444444,\"#bd3786\"],[0.5555555555555556,\"#d8576b\"],[0.6666666666666666,\"#ed7953\"],[0.7777777777777778,\"#fb9f3a\"],[0.8888888888888888,\"#fdca26\"],[1.0,\"#f0f921\"]],\"type\":\"contour\"}],\"contourcarpet\":[{\"colorbar\":{\"outlinewidth\":0,\"ticks\":\"\"},\"type\":\"contourcarpet\"}],\"heatmap\":[{\"colorbar\":{\"outlinewidth\":0,\"ticks\":\"\"},\"colorscale\":[[0.0,\"#0d0887\"],[0.1111111111111111,\"#46039f\"],[0.2222222222222222,\"#7201a8\"],[0.3333333333333333,\"#9c179e\"],[0.4444444444444444,\"#bd3786\"],[0.5555555555555556,\"#d8576b\"],[0.6666666666666666,\"#ed7953\"],[0.7777777777777778,\"#fb9f3a\"],[0.8888888888888888,\"#fdca26\"],[1.0,\"#f0f921\"]],\"type\":\"heatmap\"}],\"heatmapgl\":[{\"colorbar\":{\"outlinewidth\":0,\"ticks\":\"\"},\"colorscale\":[[0.0,\"#0d0887\"],[0.1111111111111111,\"#46039f\"],[0.2222222222222222,\"#7201a8\"],[0.3333333333333333,\"#9c179e\"],[0.4444444444444444,\"#bd3786\"],[0.5555555555555556,\"#d8576b\"],[0.6666666666666666,\"#ed7953\"],[0.7777777777777778,\"#fb9f3a\"],[0.8888888888888888,\"#fdca26\"],[1.0,\"#f0f921\"]],\"type\":\"heatmapgl\"}],\"histogram\":[{\"marker\":{\"pattern\":{\"fillmode\":\"overlay\",\"size\":10,\"solidity\":0.2}},\"type\":\"histogram\"}],\"histogram2d\":[{\"colorbar\":{\"outlinewidth\":0,\"ticks\":\"\"},\"colorscale\":[[0.0,\"#0d0887\"],[0.1111111111111111,\"#46039f\"],[0.2222222222222222,\"#7201a8\"],[0.3333333333333333,\"#9c179e\"],[0.4444444444444444,\"#bd3786\"],[0.5555555555555556,\"#d8576b\"],[0.6666666666666666,\"#ed7953\"],[0.7777777777777778,\"#fb9f3a\"],[0.8888888888888888,\"#fdca26\"],[1.0,\"#f0f921\"]],\"type\":\"histogram2d\"}],\"histogram2dcontour\":[{\"colorbar\":{\"outlinewidth\":0,\"ticks\":\"\"},\"colorscale\":[[0.0,\"#0d0887\"],[0.1111111111111111,\"#46039f\"],[0.2222222222222222,\"#7201a8\"],[0.3333333333333333,\"#9c179e\"],[0.4444444444444444,\"#bd3786\"],[0.5555555555555556,\"#d8576b\"],[0.6666666666666666,\"#ed7953\"],[0.7777777777777778,\"#fb9f3a\"],[0.8888888888888888,\"#fdca26\"],[1.0,\"#f0f921\"]],\"type\":\"histogram2dcontour\"}],\"mesh3d\":[{\"colorbar\":{\"outlinewidth\":0,\"ticks\":\"\"},\"type\":\"mesh3d\"}],\"parcoords\":[{\"line\":{\"colorbar\":{\"outlinewidth\":0,\"ticks\":\"\"}},\"type\":\"parcoords\"}],\"pie\":[{\"automargin\":true,\"type\":\"pie\"}],\"scatter\":[{\"marker\":{\"colorbar\":{\"outlinewidth\":0,\"ticks\":\"\"}},\"type\":\"scatter\"}],\"scatter3d\":[{\"line\":{\"colorbar\":{\"outlinewidth\":0,\"ticks\":\"\"}},\"marker\":{\"colorbar\":{\"outlinewidth\":0,\"ticks\":\"\"}},\"type\":\"scatter3d\"}],\"scattercarpet\":[{\"marker\":{\"colorbar\":{\"outlinewidth\":0,\"ticks\":\"\"}},\"type\":\"scattercarpet\"}],\"scattergeo\":[{\"marker\":{\"colorbar\":{\"outlinewidth\":0,\"ticks\":\"\"}},\"type\":\"scattergeo\"}],\"scattergl\":[{\"marker\":{\"colorbar\":{\"outlinewidth\":0,\"ticks\":\"\"}},\"type\":\"scattergl\"}],\"scattermapbox\":[{\"marker\":{\"colorbar\":{\"outlinewidth\":0,\"ticks\":\"\"}},\"type\":\"scattermapbox\"}],\"scatterpolar\":[{\"marker\":{\"colorbar\":{\"outlinewidth\":0,\"ticks\":\"\"}},\"type\":\"scatterpolar\"}],\"scatterpolargl\":[{\"marker\":{\"colorbar\":{\"outlinewidth\":0,\"ticks\":\"\"}},\"type\":\"scatterpolargl\"}],\"scatterternary\":[{\"marker\":{\"colorbar\":{\"outlinewidth\":0,\"ticks\":\"\"}},\"type\":\"scatterternary\"}],\"surface\":[{\"colorbar\":{\"outlinewidth\":0,\"ticks\":\"\"},\"colorscale\":[[0.0,\"#0d0887\"],[0.1111111111111111,\"#46039f\"],[0.2222222222222222,\"#7201a8\"],[0.3333333333333333,\"#9c179e\"],[0.4444444444444444,\"#bd3786\"],[0.5555555555555556,\"#d8576b\"],[0.6666666666666666,\"#ed7953\"],[0.7777777777777778,\"#fb9f3a\"],[0.8888888888888888,\"#fdca26\"],[1.0,\"#f0f921\"]],\"type\":\"surface\"}],\"table\":[{\"cells\":{\"fill\":{\"color\":\"#EBF0F8\"},\"line\":{\"color\":\"white\"}},\"header\":{\"fill\":{\"color\":\"#C8D4E3\"},\"line\":{\"color\":\"white\"}},\"type\":\"table\"}]},\"layout\":{\"annotationdefaults\":{\"arrowcolor\":\"#2a3f5f\",\"arrowhead\":0,\"arrowwidth\":1},\"autotypenumbers\":\"strict\",\"coloraxis\":{\"colorbar\":{\"outlinewidth\":0,\"ticks\":\"\"}},\"colorscale\":{\"diverging\":[[0,\"#8e0152\"],[0.1,\"#c51b7d\"],[0.2,\"#de77ae\"],[0.3,\"#f1b6da\"],[0.4,\"#fde0ef\"],[0.5,\"#f7f7f7\"],[0.6,\"#e6f5d0\"],[0.7,\"#b8e186\"],[0.8,\"#7fbc41\"],[0.9,\"#4d9221\"],[1,\"#276419\"]],\"sequential\":[[0.0,\"#0d0887\"],[0.1111111111111111,\"#46039f\"],[0.2222222222222222,\"#7201a8\"],[0.3333333333333333,\"#9c179e\"],[0.4444444444444444,\"#bd3786\"],[0.5555555555555556,\"#d8576b\"],[0.6666666666666666,\"#ed7953\"],[0.7777777777777778,\"#fb9f3a\"],[0.8888888888888888,\"#fdca26\"],[1.0,\"#f0f921\"]],\"sequentialminus\":[[0.0,\"#0d0887\"],[0.1111111111111111,\"#46039f\"],[0.2222222222222222,\"#7201a8\"],[0.3333333333333333,\"#9c179e\"],[0.4444444444444444,\"#bd3786\"],[0.5555555555555556,\"#d8576b\"],[0.6666666666666666,\"#ed7953\"],[0.7777777777777778,\"#fb9f3a\"],[0.8888888888888888,\"#fdca26\"],[1.0,\"#f0f921\"]]},\"colorway\":[\"#636efa\",\"#EF553B\",\"#00cc96\",\"#ab63fa\",\"#FFA15A\",\"#19d3f3\",\"#FF6692\",\"#B6E880\",\"#FF97FF\",\"#FECB52\"],\"font\":{\"color\":\"#2a3f5f\"},\"geo\":{\"bgcolor\":\"white\",\"lakecolor\":\"white\",\"landcolor\":\"#E5ECF6\",\"showlakes\":true,\"showland\":true,\"subunitcolor\":\"white\"},\"hoverlabel\":{\"align\":\"left\"},\"hovermode\":\"closest\",\"mapbox\":{\"style\":\"light\"},\"paper_bgcolor\":\"white\",\"plot_bgcolor\":\"#E5ECF6\",\"polar\":{\"angularaxis\":{\"gridcolor\":\"white\",\"linecolor\":\"white\",\"ticks\":\"\"},\"bgcolor\":\"#E5ECF6\",\"radialaxis\":{\"gridcolor\":\"white\",\"linecolor\":\"white\",\"ticks\":\"\"}},\"scene\":{\"xaxis\":{\"backgroundcolor\":\"#E5ECF6\",\"gridcolor\":\"white\",\"gridwidth\":2,\"linecolor\":\"white\",\"showbackground\":true,\"ticks\":\"\",\"zerolinecolor\":\"white\"},\"yaxis\":{\"backgroundcolor\":\"#E5ECF6\",\"gridcolor\":\"white\",\"gridwidth\":2,\"linecolor\":\"white\",\"showbackground\":true,\"ticks\":\"\",\"zerolinecolor\":\"white\"},\"zaxis\":{\"backgroundcolor\":\"#E5ECF6\",\"gridcolor\":\"white\",\"gridwidth\":2,\"linecolor\":\"white\",\"showbackground\":true,\"ticks\":\"\",\"zerolinecolor\":\"white\"}},\"shapedefaults\":{\"line\":{\"color\":\"#2a3f5f\"}},\"ternary\":{\"aaxis\":{\"gridcolor\":\"white\",\"linecolor\":\"white\",\"ticks\":\"\"},\"baxis\":{\"gridcolor\":\"white\",\"linecolor\":\"white\",\"ticks\":\"\"},\"bgcolor\":\"#E5ECF6\",\"caxis\":{\"gridcolor\":\"white\",\"linecolor\":\"white\",\"ticks\":\"\"}},\"title\":{\"x\":0.05},\"xaxis\":{\"automargin\":true,\"gridcolor\":\"white\",\"linecolor\":\"white\",\"ticks\":\"\",\"title\":{\"standoff\":15},\"zerolinecolor\":\"white\",\"zerolinewidth\":2},\"yaxis\":{\"automargin\":true,\"gridcolor\":\"white\",\"linecolor\":\"white\",\"ticks\":\"\",\"title\":{\"standoff\":15},\"zerolinecolor\":\"white\",\"zerolinewidth\":2}}}},                        {\"responsive\": true}                    ).then(function(){\n",
              "                            \n",
              "var gd = document.getElementById('9f3a2a43-734e-465f-8ca4-b1ec00fe455c');\n",
              "var x = new MutationObserver(function (mutations, observer) {{\n",
              "        var display = window.getComputedStyle(gd).display;\n",
              "        if (!display || display === 'none') {{\n",
              "            console.log([gd, 'removed!']);\n",
              "            Plotly.purge(gd);\n",
              "            observer.disconnect();\n",
              "        }}\n",
              "}});\n",
              "\n",
              "// Listen for the removal of the full notebook cells\n",
              "var notebookContainer = gd.closest('#notebook-container');\n",
              "if (notebookContainer) {{\n",
              "    x.observe(notebookContainer, {childList: true});\n",
              "}}\n",
              "\n",
              "// Listen for the clearing of the current output cell\n",
              "var outputEl = gd.closest('.output');\n",
              "if (outputEl) {{\n",
              "    x.observe(outputEl, {childList: true});\n",
              "}}\n",
              "\n",
              "                        })                };                            </script>        </div>\n",
              "</body>\n",
              "</html>"
            ]
          },
          "metadata": {}
        }
      ]
    },
    {
      "cell_type": "code",
      "source": [
        "z_data[np.where(np.isnan(z_data))] = 0 #in some cases 0 gets interpreted as nan"
      ],
      "metadata": {
        "id": "HvbwjTJCEqYd"
      },
      "execution_count": null,
      "outputs": []
    },
    {
      "cell_type": "markdown",
      "source": [
        "Merge individual axes into one point data set:"
      ],
      "metadata": {
        "id": "tLVN_EL_YGaj"
      }
    },
    {
      "cell_type": "code",
      "source": [
        "synthetic_data = np.zeros((samples+1,N,N,3))\n",
        "synthetic_data[:,:,:,0] = x_data\n",
        "synthetic_data[:,:,:,1] = y_data\n",
        "synthetic_data[:,:,:,2] = z_data"
      ],
      "metadata": {
        "id": "9urOo8R59XyL"
      },
      "execution_count": null,
      "outputs": []
    },
    {
      "cell_type": "markdown",
      "source": [
        "**Add noise**"
      ],
      "metadata": {
        "id": "KnTRDqcWKCFa"
      }
    },
    {
      "cell_type": "code",
      "source": [
        "if add_noise:\n",
        "  mu, sigma = 0, w/(N-1) * noise_amount/100\n",
        "  noise = np.random.normal(mu, sigma, synthetic_data.shape) \n",
        "  synthetic_data = synthetic_data + noise"
      ],
      "metadata": {
        "id": "VmG5SRJUKBfI"
      },
      "execution_count": null,
      "outputs": []
    },
    {
      "cell_type": "markdown",
      "source": [
        "**Data decision**"
      ],
      "metadata": {
        "id": "PVK0qOzbFhhY"
      }
    },
    {
      "cell_type": "code",
      "source": [
        "if real_data:\n",
        "  data = np.load(PATH + 'data_norm_rot.npy')\n",
        "  peaks = np.load(PATH + 'peaks_norm.npy')\n",
        "  flat_index = 21845\n",
        "else:\n",
        "  data = synthetic_data\n",
        "  peaks = np.arange(data.shape[0])\n",
        "  flat_index = -1"
      ],
      "metadata": {
        "id": "LxHTVPH1LNcN"
      },
      "execution_count": null,
      "outputs": []
    },
    {
      "cell_type": "markdown",
      "source": [
        "## Sensor Delta Calculation"
      ],
      "metadata": {
        "id": "a4YkDtF_47PF"
      }
    },
    {
      "cell_type": "code",
      "source": [
        "points = np.zeros((data.shape[0], 49,3))\n",
        "for i in range(points.shape[0]):\n",
        "  points[i] = np.reshape(data[i], (49,3))"
      ],
      "metadata": {
        "id": "GCyfGW6pXSm5"
      },
      "execution_count": null,
      "outputs": []
    },
    {
      "cell_type": "code",
      "source": [
        "fig = go.Figure(\n",
        "    data=[\n",
        "          go.Scatter3d(x=points[flat_index,:,0], y=points[flat_index,:,1], z=points[flat_index,:,2])#, mode='markers', marker=dict(size=5, color='red')),\n",
        "        ]\n",
        ")\n",
        "\n",
        "\n",
        "scene = dict(\n",
        "  xaxis = dict(nticks=4, range=[-0.1,1.1],),\n",
        "  yaxis = dict(nticks=4, range=[-0.1,1.1],),\n",
        "  zaxis = dict(nticks=4, range=[-1,1],)\n",
        ")\n",
        "\n",
        "fig.update_layout( scene = scene)\n",
        "\n",
        "fig.show()"
      ],
      "metadata": {
        "colab": {
          "base_uri": "https://localhost:8080/",
          "height": 542
        },
        "id": "azXjBqHVYtOn",
        "outputId": "7633b2c2-7b56-4645-f041-27de8d0ba059"
      },
      "execution_count": null,
      "outputs": [
        {
          "output_type": "display_data",
          "data": {
            "text/html": [
              "<html>\n",
              "<head><meta charset=\"utf-8\" /></head>\n",
              "<body>\n",
              "    <div>            <script src=\"https://cdnjs.cloudflare.com/ajax/libs/mathjax/2.7.5/MathJax.js?config=TeX-AMS-MML_SVG\"></script><script type=\"text/javascript\">if (window.MathJax) {MathJax.Hub.Config({SVG: {font: \"STIX-Web\"}});}</script>                <script type=\"text/javascript\">window.PlotlyConfig = {MathJaxConfig: 'local'};</script>\n",
              "        <script src=\"https://cdn.plot.ly/plotly-2.8.3.min.js\"></script>                <div id=\"367ae5ef-183f-4e34-a500-9f02baef0f62\" class=\"plotly-graph-div\" style=\"height:525px; width:100%;\"></div>            <script type=\"text/javascript\">                                    window.PLOTLYENV=window.PLOTLYENV || {};                                    if (document.getElementById(\"367ae5ef-183f-4e34-a500-9f02baef0f62\")) {                    Plotly.newPlot(                        \"367ae5ef-183f-4e34-a500-9f02baef0f62\",                        [{\"x\":[0.0,0.007993944326206795,0.010577054209542046,0.009606659871219683,0.010087689166881231,0.018032842006807447,0.024163695956964347,0.17600497629403064,0.17618271890016263,0.17092438314321312,0.17919488036144005,0.17917588364233059,0.17928651207619425,0.18127922988475828,0.3311251443187932,0.3350845692684136,0.33947989703145115,0.3466735135732163,0.3339400512508963,0.3390263479888857,0.3445027786375733,0.5033178180110254,0.5036526319634772,0.5151759332550951,0.514905560891164,0.5107763372705916,0.5184678310146236,0.5112515639647112,0.6706437452245069,0.6737525849208765,0.679924770395593,0.6799695231287889,0.6788235389611672,0.6793320083990632,0.6776780149572246,0.8291575337443419,0.8333536687192497,0.8393812797203405,0.8409614065438359,0.8385505288759357,0.8403128275782629,0.8389803914116887,0.9999999999999999,0.9987675085709599,1.0056111673552883,1.0101014440089513,1.0109708176159193,1.0168604504976697,1.015919844003057],\"y\":[0.0,0.16126376565130313,0.330890579472655,0.49396640641682377,0.6617825391956732,0.824878789886558,0.9960816849387538,0.006168066083610648,0.16033530329728393,0.3342378695034595,0.4822191110848471,0.6634482465296327,0.8228806354803507,1.00233715800613,0.004701536663975742,0.15821301936464793,0.3264622013612676,0.49307464322480876,0.6690444158696021,0.8271192727566788,1.0009353160179113,0.003304227740435642,0.1536318861944727,0.32512707160350596,0.4966154134968259,0.663466441134637,0.8269368961727064,0.9964057149516299,0.0024977520770670687,0.15813802580185554,0.3274653080550903,0.49467214708633667,0.6708078278004886,0.8290996971657725,1.0002667427249134,0.0012475450861474482,0.16198081318078061,0.32175788494058366,0.4877915394650295,0.6620110817212933,0.8277562309826848,0.9912014781069203,1.3552527156068805e-19,0.1542872137040746,0.31554221842458624,0.4787299961401765,0.6583275409819614,0.8207774627618979,0.990296873174756],\"z\":[0.0,0.00046779736640483426,0.0011123375550883326,0.0006124439886918253,0.000505699424224338,9.252608050867861e-06,0.0,0.0001258100236933464,0.0015881270479581044,0.002225804067858019,0.0013307822514997993,0.0007163966980455218,0.0009482584407302652,0.0005048023628927388,-0.00016831496311086117,0.0007074731519393883,0.0010278425264305044,0.0015503684766234281,0.00026194608430646707,0.0009746747533310833,-9.877376741382685e-05,-0.00026197672439327857,0.0006732063740678695,0.0005070145265748463,-0.00029309149326057354,0.00041676801198874125,-0.00047161586900053287,-0.0002928509103688956,-0.000906899055696582,-0.00029704789775344964,-0.00040008176265189654,-0.00021903172907544732,-0.00037525206177627113,-0.0006358793033564986,-0.00048769437063907184,-0.0016808119132494734,-0.00044309076722630347,-0.0009813087037092022,-0.0008154354386028934,-0.0016818267821837804,-0.00039428354569034235,5.602605615730172e-05,6.938893903907228e-18,-0.0015397069334348104,-0.00249033689610733,-0.0025962776180836686,-0.0028202388058763683,-0.0009827445177127345,-0.000460972924865799],\"type\":\"scatter3d\"}],                        {\"template\":{\"data\":{\"bar\":[{\"error_x\":{\"color\":\"#2a3f5f\"},\"error_y\":{\"color\":\"#2a3f5f\"},\"marker\":{\"line\":{\"color\":\"#E5ECF6\",\"width\":0.5},\"pattern\":{\"fillmode\":\"overlay\",\"size\":10,\"solidity\":0.2}},\"type\":\"bar\"}],\"barpolar\":[{\"marker\":{\"line\":{\"color\":\"#E5ECF6\",\"width\":0.5},\"pattern\":{\"fillmode\":\"overlay\",\"size\":10,\"solidity\":0.2}},\"type\":\"barpolar\"}],\"carpet\":[{\"aaxis\":{\"endlinecolor\":\"#2a3f5f\",\"gridcolor\":\"white\",\"linecolor\":\"white\",\"minorgridcolor\":\"white\",\"startlinecolor\":\"#2a3f5f\"},\"baxis\":{\"endlinecolor\":\"#2a3f5f\",\"gridcolor\":\"white\",\"linecolor\":\"white\",\"minorgridcolor\":\"white\",\"startlinecolor\":\"#2a3f5f\"},\"type\":\"carpet\"}],\"choropleth\":[{\"colorbar\":{\"outlinewidth\":0,\"ticks\":\"\"},\"type\":\"choropleth\"}],\"contour\":[{\"colorbar\":{\"outlinewidth\":0,\"ticks\":\"\"},\"colorscale\":[[0.0,\"#0d0887\"],[0.1111111111111111,\"#46039f\"],[0.2222222222222222,\"#7201a8\"],[0.3333333333333333,\"#9c179e\"],[0.4444444444444444,\"#bd3786\"],[0.5555555555555556,\"#d8576b\"],[0.6666666666666666,\"#ed7953\"],[0.7777777777777778,\"#fb9f3a\"],[0.8888888888888888,\"#fdca26\"],[1.0,\"#f0f921\"]],\"type\":\"contour\"}],\"contourcarpet\":[{\"colorbar\":{\"outlinewidth\":0,\"ticks\":\"\"},\"type\":\"contourcarpet\"}],\"heatmap\":[{\"colorbar\":{\"outlinewidth\":0,\"ticks\":\"\"},\"colorscale\":[[0.0,\"#0d0887\"],[0.1111111111111111,\"#46039f\"],[0.2222222222222222,\"#7201a8\"],[0.3333333333333333,\"#9c179e\"],[0.4444444444444444,\"#bd3786\"],[0.5555555555555556,\"#d8576b\"],[0.6666666666666666,\"#ed7953\"],[0.7777777777777778,\"#fb9f3a\"],[0.8888888888888888,\"#fdca26\"],[1.0,\"#f0f921\"]],\"type\":\"heatmap\"}],\"heatmapgl\":[{\"colorbar\":{\"outlinewidth\":0,\"ticks\":\"\"},\"colorscale\":[[0.0,\"#0d0887\"],[0.1111111111111111,\"#46039f\"],[0.2222222222222222,\"#7201a8\"],[0.3333333333333333,\"#9c179e\"],[0.4444444444444444,\"#bd3786\"],[0.5555555555555556,\"#d8576b\"],[0.6666666666666666,\"#ed7953\"],[0.7777777777777778,\"#fb9f3a\"],[0.8888888888888888,\"#fdca26\"],[1.0,\"#f0f921\"]],\"type\":\"heatmapgl\"}],\"histogram\":[{\"marker\":{\"pattern\":{\"fillmode\":\"overlay\",\"size\":10,\"solidity\":0.2}},\"type\":\"histogram\"}],\"histogram2d\":[{\"colorbar\":{\"outlinewidth\":0,\"ticks\":\"\"},\"colorscale\":[[0.0,\"#0d0887\"],[0.1111111111111111,\"#46039f\"],[0.2222222222222222,\"#7201a8\"],[0.3333333333333333,\"#9c179e\"],[0.4444444444444444,\"#bd3786\"],[0.5555555555555556,\"#d8576b\"],[0.6666666666666666,\"#ed7953\"],[0.7777777777777778,\"#fb9f3a\"],[0.8888888888888888,\"#fdca26\"],[1.0,\"#f0f921\"]],\"type\":\"histogram2d\"}],\"histogram2dcontour\":[{\"colorbar\":{\"outlinewidth\":0,\"ticks\":\"\"},\"colorscale\":[[0.0,\"#0d0887\"],[0.1111111111111111,\"#46039f\"],[0.2222222222222222,\"#7201a8\"],[0.3333333333333333,\"#9c179e\"],[0.4444444444444444,\"#bd3786\"],[0.5555555555555556,\"#d8576b\"],[0.6666666666666666,\"#ed7953\"],[0.7777777777777778,\"#fb9f3a\"],[0.8888888888888888,\"#fdca26\"],[1.0,\"#f0f921\"]],\"type\":\"histogram2dcontour\"}],\"mesh3d\":[{\"colorbar\":{\"outlinewidth\":0,\"ticks\":\"\"},\"type\":\"mesh3d\"}],\"parcoords\":[{\"line\":{\"colorbar\":{\"outlinewidth\":0,\"ticks\":\"\"}},\"type\":\"parcoords\"}],\"pie\":[{\"automargin\":true,\"type\":\"pie\"}],\"scatter\":[{\"marker\":{\"colorbar\":{\"outlinewidth\":0,\"ticks\":\"\"}},\"type\":\"scatter\"}],\"scatter3d\":[{\"line\":{\"colorbar\":{\"outlinewidth\":0,\"ticks\":\"\"}},\"marker\":{\"colorbar\":{\"outlinewidth\":0,\"ticks\":\"\"}},\"type\":\"scatter3d\"}],\"scattercarpet\":[{\"marker\":{\"colorbar\":{\"outlinewidth\":0,\"ticks\":\"\"}},\"type\":\"scattercarpet\"}],\"scattergeo\":[{\"marker\":{\"colorbar\":{\"outlinewidth\":0,\"ticks\":\"\"}},\"type\":\"scattergeo\"}],\"scattergl\":[{\"marker\":{\"colorbar\":{\"outlinewidth\":0,\"ticks\":\"\"}},\"type\":\"scattergl\"}],\"scattermapbox\":[{\"marker\":{\"colorbar\":{\"outlinewidth\":0,\"ticks\":\"\"}},\"type\":\"scattermapbox\"}],\"scatterpolar\":[{\"marker\":{\"colorbar\":{\"outlinewidth\":0,\"ticks\":\"\"}},\"type\":\"scatterpolar\"}],\"scatterpolargl\":[{\"marker\":{\"colorbar\":{\"outlinewidth\":0,\"ticks\":\"\"}},\"type\":\"scatterpolargl\"}],\"scatterternary\":[{\"marker\":{\"colorbar\":{\"outlinewidth\":0,\"ticks\":\"\"}},\"type\":\"scatterternary\"}],\"surface\":[{\"colorbar\":{\"outlinewidth\":0,\"ticks\":\"\"},\"colorscale\":[[0.0,\"#0d0887\"],[0.1111111111111111,\"#46039f\"],[0.2222222222222222,\"#7201a8\"],[0.3333333333333333,\"#9c179e\"],[0.4444444444444444,\"#bd3786\"],[0.5555555555555556,\"#d8576b\"],[0.6666666666666666,\"#ed7953\"],[0.7777777777777778,\"#fb9f3a\"],[0.8888888888888888,\"#fdca26\"],[1.0,\"#f0f921\"]],\"type\":\"surface\"}],\"table\":[{\"cells\":{\"fill\":{\"color\":\"#EBF0F8\"},\"line\":{\"color\":\"white\"}},\"header\":{\"fill\":{\"color\":\"#C8D4E3\"},\"line\":{\"color\":\"white\"}},\"type\":\"table\"}]},\"layout\":{\"annotationdefaults\":{\"arrowcolor\":\"#2a3f5f\",\"arrowhead\":0,\"arrowwidth\":1},\"autotypenumbers\":\"strict\",\"coloraxis\":{\"colorbar\":{\"outlinewidth\":0,\"ticks\":\"\"}},\"colorscale\":{\"diverging\":[[0,\"#8e0152\"],[0.1,\"#c51b7d\"],[0.2,\"#de77ae\"],[0.3,\"#f1b6da\"],[0.4,\"#fde0ef\"],[0.5,\"#f7f7f7\"],[0.6,\"#e6f5d0\"],[0.7,\"#b8e186\"],[0.8,\"#7fbc41\"],[0.9,\"#4d9221\"],[1,\"#276419\"]],\"sequential\":[[0.0,\"#0d0887\"],[0.1111111111111111,\"#46039f\"],[0.2222222222222222,\"#7201a8\"],[0.3333333333333333,\"#9c179e\"],[0.4444444444444444,\"#bd3786\"],[0.5555555555555556,\"#d8576b\"],[0.6666666666666666,\"#ed7953\"],[0.7777777777777778,\"#fb9f3a\"],[0.8888888888888888,\"#fdca26\"],[1.0,\"#f0f921\"]],\"sequentialminus\":[[0.0,\"#0d0887\"],[0.1111111111111111,\"#46039f\"],[0.2222222222222222,\"#7201a8\"],[0.3333333333333333,\"#9c179e\"],[0.4444444444444444,\"#bd3786\"],[0.5555555555555556,\"#d8576b\"],[0.6666666666666666,\"#ed7953\"],[0.7777777777777778,\"#fb9f3a\"],[0.8888888888888888,\"#fdca26\"],[1.0,\"#f0f921\"]]},\"colorway\":[\"#636efa\",\"#EF553B\",\"#00cc96\",\"#ab63fa\",\"#FFA15A\",\"#19d3f3\",\"#FF6692\",\"#B6E880\",\"#FF97FF\",\"#FECB52\"],\"font\":{\"color\":\"#2a3f5f\"},\"geo\":{\"bgcolor\":\"white\",\"lakecolor\":\"white\",\"landcolor\":\"#E5ECF6\",\"showlakes\":true,\"showland\":true,\"subunitcolor\":\"white\"},\"hoverlabel\":{\"align\":\"left\"},\"hovermode\":\"closest\",\"mapbox\":{\"style\":\"light\"},\"paper_bgcolor\":\"white\",\"plot_bgcolor\":\"#E5ECF6\",\"polar\":{\"angularaxis\":{\"gridcolor\":\"white\",\"linecolor\":\"white\",\"ticks\":\"\"},\"bgcolor\":\"#E5ECF6\",\"radialaxis\":{\"gridcolor\":\"white\",\"linecolor\":\"white\",\"ticks\":\"\"}},\"scene\":{\"xaxis\":{\"backgroundcolor\":\"#E5ECF6\",\"gridcolor\":\"white\",\"gridwidth\":2,\"linecolor\":\"white\",\"showbackground\":true,\"ticks\":\"\",\"zerolinecolor\":\"white\"},\"yaxis\":{\"backgroundcolor\":\"#E5ECF6\",\"gridcolor\":\"white\",\"gridwidth\":2,\"linecolor\":\"white\",\"showbackground\":true,\"ticks\":\"\",\"zerolinecolor\":\"white\"},\"zaxis\":{\"backgroundcolor\":\"#E5ECF6\",\"gridcolor\":\"white\",\"gridwidth\":2,\"linecolor\":\"white\",\"showbackground\":true,\"ticks\":\"\",\"zerolinecolor\":\"white\"}},\"shapedefaults\":{\"line\":{\"color\":\"#2a3f5f\"}},\"ternary\":{\"aaxis\":{\"gridcolor\":\"white\",\"linecolor\":\"white\",\"ticks\":\"\"},\"baxis\":{\"gridcolor\":\"white\",\"linecolor\":\"white\",\"ticks\":\"\"},\"bgcolor\":\"#E5ECF6\",\"caxis\":{\"gridcolor\":\"white\",\"linecolor\":\"white\",\"ticks\":\"\"}},\"title\":{\"x\":0.05},\"xaxis\":{\"automargin\":true,\"gridcolor\":\"white\",\"linecolor\":\"white\",\"ticks\":\"\",\"title\":{\"standoff\":15},\"zerolinecolor\":\"white\",\"zerolinewidth\":2},\"yaxis\":{\"automargin\":true,\"gridcolor\":\"white\",\"linecolor\":\"white\",\"ticks\":\"\",\"title\":{\"standoff\":15},\"zerolinecolor\":\"white\",\"zerolinewidth\":2}}},\"scene\":{\"xaxis\":{\"nticks\":4,\"range\":[-0.1,1.1]},\"yaxis\":{\"nticks\":4,\"range\":[-0.1,1.1]},\"zaxis\":{\"nticks\":4,\"range\":[-1,1]}}},                        {\"responsive\": true}                    ).then(function(){\n",
              "                            \n",
              "var gd = document.getElementById('367ae5ef-183f-4e34-a500-9f02baef0f62');\n",
              "var x = new MutationObserver(function (mutations, observer) {{\n",
              "        var display = window.getComputedStyle(gd).display;\n",
              "        if (!display || display === 'none') {{\n",
              "            console.log([gd, 'removed!']);\n",
              "            Plotly.purge(gd);\n",
              "            observer.disconnect();\n",
              "        }}\n",
              "}});\n",
              "\n",
              "// Listen for the removal of the full notebook cells\n",
              "var notebookContainer = gd.closest('#notebook-container');\n",
              "if (notebookContainer) {{\n",
              "    x.observe(notebookContainer, {childList: true});\n",
              "}}\n",
              "\n",
              "// Listen for the clearing of the current output cell\n",
              "var outputEl = gd.closest('.output');\n",
              "if (outputEl) {{\n",
              "    x.observe(outputEl, {childList: true});\n",
              "}}\n",
              "\n",
              "                        })                };                            </script>        </div>\n",
              "</body>\n",
              "</html>"
            ]
          },
          "metadata": {}
        }
      ]
    },
    {
      "cell_type": "markdown",
      "source": [
        "### Sensors"
      ],
      "metadata": {
        "id": "X3DCup3YE_Cr"
      }
    },
    {
      "cell_type": "code",
      "source": [
        "sensors = [\n",
        "  [42,35], [42,34], [43,34], [44,37], [44,38], [45,38], [46,38], [46,39], [47,40], [48,40], [48,41], #sensor 11, top row\n",
        "  [48,47], [41,40], [34,33], [34,26], [27,26], [20,26], [20,19], [13,12], [13,5], [6,5], #sensor 21, right column\n",
        "  [6,13], [5,12], [4,11], [4,10], [3,10], [2,10], [2,9], [1,8], [0,8], [0,7], #sensor 31, bottom row\n",
        "  [0,1], [7,8], [14,15], [14,22], [21,22], [28,22], [28,29], [35,36], [42,43], #sensor 40, left column\n",
        "  [36,30], [40,32], [12,18], [8,16], #sensor 44, circle\n",
        "  [23,24], [31,24], [25,24], [17,24] #sensor 45, cross\n",
        "]\n",
        "sensors = np.asarray(sensors)"
      ],
      "metadata": {
        "id": "0Syqz6-6fP3k"
      },
      "execution_count": null,
      "outputs": []
    },
    {
      "cell_type": "code",
      "source": [
        "distance_flat, distance_indent = [], []\n",
        "frame = points[flat_index,:,:]\n",
        "\n",
        "for i in range(sensors.shape[0]):\n",
        "  distance_flat.append(\n",
        "      np.asarray([np.linalg.norm(frame[sensors[i][0],:] - frame[sensors[i][1],:])] * (data.shape[0]-1))\n",
        "  )\n",
        "  distance_indent.append([])\n",
        "\n",
        "  for j in range(data.shape[0] - 1):\n",
        "    distance_indent[i].append(\n",
        "        np.asarray(np.linalg.norm(points[j,sensors[i][0],:] - points[j,sensors[i][1],:]))\n",
        "    )\n",
        "\n",
        "distance_flat = np.asarray(distance_flat)\n",
        "distance_indent = np.asarray(distance_indent)"
      ],
      "metadata": {
        "id": "yOyqAu3b47PG"
      },
      "execution_count": null,
      "outputs": []
    },
    {
      "cell_type": "markdown",
      "source": [
        "### Delta"
      ],
      "metadata": {
        "id": "OagimGp063tl"
      }
    },
    {
      "cell_type": "code",
      "source": [
        "delta = distance_indent - distance_flat\n",
        "\n",
        "#delta[np.where(delta==0)] = 0.00000000000001\n",
        "delta_inverse = np.divide(1,delta)"
      ],
      "metadata": {
        "id": "Z1SG2hJB47PG",
        "colab": {
          "base_uri": "https://localhost:8080/"
        },
        "outputId": "7d59c9a2-5236-458c-b6d5-bbe1878758db"
      },
      "execution_count": null,
      "outputs": [
        {
          "output_type": "stream",
          "name": "stderr",
          "text": [
            "/usr/local/lib/python3.7/dist-packages/ipykernel_launcher.py:4: RuntimeWarning:\n",
            "\n",
            "divide by zero encountered in true_divide\n",
            "\n"
          ]
        }
      ]
    },
    {
      "cell_type": "code",
      "source": [],
      "metadata": {
        "id": "ZQgQy3tac_y1"
      },
      "execution_count": null,
      "outputs": []
    },
    {
      "cell_type": "markdown",
      "source": [
        "## Pattern Configurations"
      ],
      "metadata": {
        "id": "EOcTCyaauW20"
      }
    },
    {
      "cell_type": "code",
      "source": [
        "test_config = np.array((\n",
        "  #3 Sensors\n",
        "  [5,35,15], \n",
        "  [5,29,19],\n",
        "\n",
        "  #4 Sensors\n",
        "  [5,15,25,29],  \n",
        "  [1,9,19,29],  \n",
        "  [44,45,46,47],\n",
        "\n",
        "  #6 Sensors\n",
        "  [1,7,13,19,27,33],  \n",
        "  [5,12,18,25,32,38],\n",
        "\n",
        "  #8 Sensors\n",
        "  [5,41,15,42,25,43,29,40],  \n",
        "  [1,5,9,15,19,25,29,35], \n",
        "\n",
        "  #12 Sensors\n",
        "  [1,4,6,9,14,16,19,24,26,29,34,36],  \n",
        "  [1,3,7,9,13,17,19,23,27,29,33,37],\n",
        "  [2,5,8,12,15,18,22,25,28,32,29,38],  \n",
        "  [1,2,8,9,12,18,19,22,28,29,32,38],\n",
        "  [4,6,14,16,24,26,34,36,40,41,42,43],\n",
        "\n",
        "  # 16 Sensors\n",
        "  [0,39,3,7,11,10,13,17,21,20,23,27,31,30,33,37],  \n",
        "  [0,39,5,11,10,15,21,20,25,31,30,35,40,41,42,43],        \n",
        "  [1,3,5,7,9,13,15,17,19,23,25,27,29,33,35,37],\n",
        "\n",
        "  # 20 Sensors\n",
        "  [1,3,4,6,7,9,13,14,16,17,19,23,24,26,27,29,33,34,36,37],  \n",
        "  [2,3,5,7,8,12,13,15,17,18,22,23,25,27,28,32,33,35,37,38],\n",
        "\n",
        "  # 24 Sensors\n",
        "  [1,2,3,5,7,8,9,12,13,15,17,18,19,22,23,25,27,28,29,32,33,35,37,38],\n",
        "  [38,2,3,4,6,7,8,12,13,14,16,17,18,22,23,24,26,27,28,32,33,34,36,37],\n",
        "\n",
        "  # 28 Sensors\n",
        "  [0,2,3,5,7,8,10,11,12,13,15,17,18,20,21,22,23,25,27,28,30,31,32,33,35,37,38,39],\n",
        "\n",
        "  # 32 Sensors\n",
        "  [0,1,2,3,5,7,8,9,10,11,12,13,15,17,18,19,21,20,22,23,25,27,28,29,30,31,32,33,35,37,38,39],\n",
        "  [0,2,3,5,7,8,10,11,12,13,15,17,18,20,21,22,23,25,27,28,30,31,32,33,35,37,38,39,40,41,42,43],\n",
        "  [0,2,3,5,7,8,10,11,12,13,15,17,18,20,21,22,23,25,27,28,30,31,32,33,35,37,38,39,44,45,46,47],\n",
        "\n",
        "  # 36 Sensors\n",
        "  [0,1,2,3,5,7,8,9,10,11,12,13,15,17,18,19,20,21,22,23,25,27,28,29,30,31,32,33,35,37,38,39,44,45,46,47]\n",
        "\n",
        "), dtype = object)"
      ],
      "metadata": {
        "id": "Fapc1cOsuaBl"
      },
      "execution_count": null,
      "outputs": []
    },
    {
      "cell_type": "markdown",
      "source": [
        "## Press Points"
      ],
      "metadata": {
        "id": "V-drK7PiurGW"
      }
    },
    {
      "cell_type": "markdown",
      "source": [
        "Real Data"
      ],
      "metadata": {
        "id": "ZI7FhakOePhS"
      }
    },
    {
      "cell_type": "code",
      "source": [
        "x,y,z = [],[],[]\n",
        "for frame in data[peaks]:\n",
        "  x.append(frame[:,:,0].flatten())\n",
        "  y.append(frame[:,:,1].flatten())\n",
        "  z.append(frame[:,:,2].flatten())\n",
        "\n",
        "\n",
        "x,y,z = np.asarray(x), np.asarray(y), np.asarray(z)\n",
        "\n",
        "z_maxs = []\n",
        "for zframe in z:\n",
        "  z_maxs.append(np.amax(zframe))\n",
        "\n",
        "z_maxs = np.asarray(z_maxs)\n",
        "\n",
        "peak_points = []\n",
        "for i in range(peaks.shape[0]):\n",
        "  loc = np.where(z[i] == z_maxs[i])\n",
        "  #print(x[i,loc])\n",
        "  #print(x[loc[0]])\n",
        "  peak_points.append((x[i,loc], y[i,loc], z[i,loc]))\n",
        "\n",
        "peak_points = np.asarray(peak_points)\n",
        "\n",
        "indent = np.zeros((peaks.shape[0], 3))\n",
        "\n",
        "for i in range(peaks.shape[0]):\n",
        "  indent[i] = peak_points[i].flatten()"
      ],
      "metadata": {
        "id": "f65DwOHvBwDl"
      },
      "execution_count": null,
      "outputs": []
    },
    {
      "cell_type": "markdown",
      "source": [
        "Assign presspoints according to mode"
      ],
      "metadata": {
        "id": "xiXPVF2jeRZV"
      }
    },
    {
      "cell_type": "code",
      "source": [
        "if real_data:\n",
        "  point_x = np.asarray(indent[:,0])\n",
        "  point_y = np.asarray(indent[:,1])\n",
        "  point_z = np.asarray(indent[:,2])\n",
        "else:\n",
        "  point_x = np.asarray(p[:-1,0])\n",
        "  point_y = np.asarray(p[:-1,1])\n",
        "  point_z = np.asarray(p[:-1,2])"
      ],
      "metadata": {
        "id": "vR0D_hu8z2mN"
      },
      "execution_count": null,
      "outputs": []
    },
    {
      "cell_type": "code",
      "source": [
        "print(point_y.shape)"
      ],
      "metadata": {
        "colab": {
          "base_uri": "https://localhost:8080/"
        },
        "id": "eIK2HWzcRMYL",
        "outputId": "7fad5aac-28c5-4f75-e392-c542d5f55440"
      },
      "execution_count": null,
      "outputs": [
        {
          "output_type": "stream",
          "name": "stdout",
          "text": [
            "(1200,)\n"
          ]
        }
      ]
    },
    {
      "cell_type": "markdown",
      "source": [
        "# ML"
      ],
      "metadata": {
        "id": "SHTl1VRQErVg"
      }
    },
    {
      "cell_type": "markdown",
      "source": [
        "##Models"
      ],
      "metadata": {
        "id": "QeMqkLrMurGW"
      }
    },
    {
      "cell_type": "markdown",
      "source": [
        "###Random Forest"
      ],
      "metadata": {
        "id": "1k_rzpsNurGX"
      }
    },
    {
      "cell_type": "code",
      "source": [
        "def rndForest(training_x, training_y, test_x, test_y):\n",
        "  rf = RandomForestRegressor()\n",
        "  rf.fit(training_x, training_y)\n",
        "\n",
        "  yhat = rf.predict(test_x)\n",
        "\n",
        "  #print('Random Forest:')\n",
        "  #print('   Score:', r2_score(test_y, yhat))\n",
        "  #print('   Mean Absolute Error:', mean_absolute_error(test_y, yhat))\n",
        "  #print('   Mean Squared Error:', np.sqrt(mean_squared_error(test_y, yhat)))\n",
        "\n",
        "  return(np.asarray((r2_score(test_y, yhat), mean_absolute_error(test_y, yhat), np.sqrt(mean_squared_error(test_y, yhat)))))"
      ],
      "metadata": {
        "id": "dtI4tixiurGX"
      },
      "execution_count": null,
      "outputs": []
    },
    {
      "cell_type": "markdown",
      "source": [
        "**Andere Parameter**\n"
      ],
      "metadata": {
        "id": "CN06otR1nbj4"
      }
    },
    {
      "cell_type": "code",
      "source": [
        "def rndForestParam(training_x, training_y, test_x, test_y, estimators = 200, depth = None, tuning = False):\n",
        "  clf = RandomForestRegressor(n_estimators=estimators,  max_depth=depth, random_state=0)\n",
        "  clf.fit(training_x, training_y)\n",
        "\n",
        "  yhat = clf.predict(test_x)\n",
        "\n",
        "  #print('Random Forest /w Parameter:')\n",
        "  #print('   Score:', r2_score(test_y, yhat))\n",
        "  #print('   Mean Absolute Error:', mean_absolute_error(test_y, yhat))\n",
        "  #print('   Mean Squared Error :', np.sqrt(mean_squared_error(test_y, yhat)))\n",
        "\n",
        "  #region tuning\n",
        "  if tuning:\n",
        "    param_grid = { 'n_estimators': [10, 50, 100, 200], 'max_depth': [1,2,3,5,10, None]}\n",
        "    search = GridSearchCV(clf, param_grid, cv=5)\n",
        "    search.fit(training_x, training_y)\n",
        "    print(search.best_params_)\n",
        "    search.score(training_x, training_y)\n",
        "  #endregion\n",
        "\n",
        "  return(np.asarray((r2_score(test_y, yhat), mean_absolute_error(test_y, yhat), np.sqrt(mean_squared_error(test_y, yhat)))))"
      ],
      "metadata": {
        "id": "Kr8QhYiAnedj"
      },
      "execution_count": null,
      "outputs": []
    },
    {
      "cell_type": "markdown",
      "source": [
        "**Hyperparameter Tuning**\n",
        "\n",
        "See method above under tuning."
      ],
      "metadata": {
        "id": "_F9C1RYGuMw9"
      }
    },
    {
      "cell_type": "markdown",
      "source": [
        "**Plot**"
      ],
      "metadata": {
        "id": "_-ka7L24Lpfx"
      }
    },
    {
      "cell_type": "code",
      "source": [
        "def plotRndForest():\n",
        "  rf_prediction = np.zeros((samples, 3))\n",
        "  for i in range(samples):\n",
        "    rf_prediction[i] = np.asarray(rf.predict([X[i,:]])).flatten()\n",
        "\n",
        "\n",
        "  error = p[:-1] - rf_prediction\n",
        "\n",
        "  err_dist = np.zeros(error.shape[0])\n",
        "  for i in range(error.shape[0]):\n",
        "    err_dist[i] = np.linalg.norm(error[i])\n",
        "\n",
        "  #print('Average Distance Error =', np.average(err_dist) )\n",
        "\n",
        "  plt.figure(figsize=(20,5))\n",
        "  plt.plot(err_dist)\n",
        "  plt.show()"
      ],
      "metadata": {
        "id": "4M0vAAnIurGY"
      },
      "execution_count": null,
      "outputs": []
    },
    {
      "cell_type": "markdown",
      "source": [
        "### Polynomial Regression"
      ],
      "metadata": {
        "id": "MLR8wcMD03Xg"
      }
    },
    {
      "cell_type": "code",
      "source": [
        "def polyReg(training_x, training_y, test_x, test_y, degree = 7, tuning = False):\n",
        "  degree=7\n",
        "  polyreg=make_pipeline(PolynomialFeatures(degree),LinearRegression())\n",
        "  polyreg.fit(training_x, training_y)\n",
        "\n",
        "  yhat = polyreg.predict(test_x)\n",
        "\n",
        "  #print('Polynomial Regression:')\n",
        "  #print('   Score:', r2_score(test_y, yhat))\n",
        "  #print('   Mean Absolute Error:', mean_absolute_error(test_y, yhat))\n",
        "  #print('   Mean Squared Error :', np.sqrt(mean_squared_error(test_y, yhat)))\n",
        "\n",
        "  #region tuning\n",
        "  if tuning:\n",
        "    param_grid = { 'polynomialfeatures__degree': [1,2,3,5,10]}\n",
        "    search = GridSearchCV(polyreg, param_grid, cv=5)\n",
        "    search.fit(X_train, y_train)\n",
        "    print(search.best_params_)\n",
        "    search.score(X_train, y_train)\n",
        "  #endregion\n",
        "\n",
        "  return(np.asarray((r2_score(test_y, yhat), mean_absolute_error(test_y, yhat), np.sqrt(mean_squared_error(test_y, yhat)))))"
      ],
      "metadata": {
        "id": "ZiLnhyAC03o3"
      },
      "execution_count": null,
      "outputs": []
    },
    {
      "cell_type": "markdown",
      "source": [
        "**Hyperparameter Tuning**\n",
        "\n",
        "See method above for tuning."
      ],
      "metadata": {
        "id": "dP43MZC62oXf"
      }
    },
    {
      "cell_type": "markdown",
      "source": [
        "## Split Data & Run models"
      ],
      "metadata": {
        "id": "2X61oDApurGW"
      }
    },
    {
      "cell_type": "code",
      "source": [
        "test_results = np.zeros((test_config.shape[0], 4, 3))"
      ],
      "metadata": {
        "id": "kq_t0AGUmB40"
      },
      "execution_count": null,
      "outputs": []
    },
    {
      "cell_type": "code",
      "source": [
        "print(test_results.shape)"
      ],
      "metadata": {
        "colab": {
          "base_uri": "https://localhost:8080/"
        },
        "id": "IV2aet3yjJli",
        "outputId": "f3da132f-3c7d-4c34-8a4f-f6c45acff02e"
      },
      "execution_count": null,
      "outputs": [
        {
          "output_type": "stream",
          "name": "stdout",
          "text": [
            "(26, 4, 3)\n"
          ]
        }
      ]
    },
    {
      "cell_type": "code",
      "source": [
        "for i in range(17,18):\n",
        "  #TODO\n",
        "\n",
        "  X = np.swapaxes(delta[test_config[i]], 0,1)\n",
        "  if real_data:\n",
        "    X =  X[peaks]\n",
        "  Y = np.swapaxes(np.asarray((point_x, point_y, point_z)),0,1)\n",
        "\n",
        "  X_train, X_test, y_train, y_test = train_test_split(X, Y, test_size=test_size_split, shuffle=data_split_shuffle)\n",
        "\n",
        "  print('Pattern:', i+1)\n",
        "  #print('Sensor amount:', np.asarray(test_config[i]).shape[0])\n",
        "\n",
        "  test_results[i] = np.asarray((\n",
        "      np.asarray((i+1, np.asarray(test_config[i]).shape[0],0)),\n",
        "      rndForest(X_train, y_train, X_test, y_test),\n",
        "      rndForestParam(X_train, y_train, X_test, y_test),\n",
        "      polyReg(X_train, y_train, X_test, y_test))\n",
        "  )"
      ],
      "metadata": {
        "colab": {
          "base_uri": "https://localhost:8080/"
        },
        "id": "lBqG6PX4mRhD",
        "outputId": "5bf2d05f-8ed3-4259-deda-c979c2274758"
      },
      "execution_count": null,
      "outputs": [
        {
          "output_type": "stream",
          "name": "stdout",
          "text": [
            "Pattern: 18\n"
          ]
        }
      ]
    },
    {
      "cell_type": "markdown",
      "source": [
        "## Eval"
      ],
      "metadata": {
        "id": "XkQet6eurp2c"
      }
    },
    {
      "cell_type": "code",
      "source": [
        "print(test_results)"
      ],
      "metadata": {
        "id": "ADlF1XumrsFZ"
      },
      "execution_count": null,
      "outputs": []
    }
  ]
}