{
  "nbformat": 4,
  "nbformat_minor": 0,
  "metadata": {
    "colab": {
      "name": "interpret_data",
      "provenance": [],
      "mount_file_id": "1qGzxSaexjT9YDWXK6RBOYP7hKg2hiiir",
      "authorship_tag": "ABX9TyM65vq3XBfxPQAiFrTue/mV"
    },
    "kernelspec": {
      "name": "python3",
      "display_name": "Python 3"
    },
    "language_info": {
      "name": "python"
    }
  },
  "cells": [
    {
      "cell_type": "code",
      "source": [
        "import numpy as np\n",
        "import pandas as pd"
      ],
      "metadata": {
        "id": "CVLF_BSqml0t"
      },
      "execution_count": null,
      "outputs": []
    },
    {
      "cell_type": "code",
      "execution_count": null,
      "metadata": {
        "id": "Sv2fHKVFmYyn",
        "colab": {
          "base_uri": "https://localhost:8080/"
        },
        "outputId": "f405df7e-d43a-43dc-b188-e26d89287150"
      },
      "outputs": [
        {
          "output_type": "stream",
          "name": "stderr",
          "text": [
            "/usr/local/lib/python3.7/dist-packages/IPython/core/interactiveshell.py:2882: DtypeWarning: Columns (0,1,2,3,4,5,6,7,8,9,10,11,12,13,14,15,16,17,18,19,20,21,22,23,24,25,26,27,28,29,30,31,32,33,34,35,36,37,38,39,40,41,42,43,44,45,46,47,48,49,50,51,52,53,54,55,56,57,58,59,60,61,62,63,64,65,66,67,68,69,70,71,72,73,74,75,76,77,78,79,80,81,82,83,84,85,86,87,88,89,90,91,92,93,94,95,96,97,98,99,100,101,102,103,104,105,106,107,108,109,110,111,112,113,114,115,116,117,118,119,120,121,122,123,124,125,126,127,128,129,130,131,132,133,134,135,136,137,138,139,140,141,142,143,144,145,146,147,148,149,150,151) have mixed types.Specify dtype option on import or set low_memory=False.\n",
            "  exec(code_obj, self.user_global_ns, self.user_ns)\n"
          ]
        }
      ],
      "source": [
        "path = '/content/drive/MyDrive/mil/data/'\n",
        "filename = 'take_202208031230.csv'\n",
        "\n",
        "df = pd.read_csv(path+filename, skiprows=3, header=None)\n",
        "\n",
        "#delete rows with no information\n",
        "df = df.drop(\n",
        "    labels=[1,2],\n",
        "    axis = 0\n",
        "    )\n",
        "\n",
        "df_transposed = df.T"
      ]
    },
    {
      "cell_type": "code",
      "source": [
        "#replace complex names from motive\n",
        "df_transposed = df_transposed.replace(to_replace=['mk:mk','x', 'y', 'mk:c'],value=['(', ',', ')', 'c'], regex=True)\n",
        "df_transposed = df_transposed.replace(to_replace=['X','Y', 'Z'],value=['z', 'x', 'y'], regex=True)\n",
        "\n",
        "#merge marker name + specifier\n",
        "df_transposed[0] = df_transposed[0].astype(str) +\".\"+ df_transposed[3].astype(str)"
      ],
      "metadata": {
        "id": "tXUeVJaxqpHH"
      },
      "execution_count": null,
      "outputs": []
    },
    {
      "cell_type": "code",
      "source": [
        "#rename cells\n",
        "df_transposed.at[0,0] = 'Frame'\n",
        "df_transposed.at[1,0] = ' Time'\n",
        "\n",
        "#delete specifier\n",
        "df = df_transposed.drop(\n",
        "    labels=3,\n",
        "    axis = 1\n",
        "    ).T\n",
        "\n",
        "#Drop tracking gaps\n",
        "df = df.dropna()\n",
        "\n",
        "#Set Header\n",
        "df.columns = df.iloc[0]\n",
        "df.drop(df.index[0], inplace = True)\n",
        "df = df.reset_index(drop=True)"
      ],
      "metadata": {
        "id": "O-yu284HxDb4"
      },
      "execution_count": null,
      "outputs": []
    },
    {
      "cell_type": "code",
      "source": [
        "df.to_csv(path+'formatted/f_'+filename, index=False)\n",
        "print(df)"
      ],
      "metadata": {
        "colab": {
          "base_uri": "https://localhost:8080/"
        },
        "id": "vziikajL9qlF",
        "outputId": "284159d9-56db-4bde-a97e-75c975d5bf39"
      },
      "execution_count": null,
      "outputs": [
        {
          "output_type": "stream",
          "name": "stdout",
          "text": [
            "0          Frame      Time    control.z   control.x   control.y   (0,0).z  \\\n",
            "0              0  0.000000  -142.513763  -82.587532  -28.595640  0.107238   \n",
            "1              1  0.010000  -142.530014  -82.642731  -28.612274  0.116104   \n",
            "2              2  0.020000  -142.533051  -82.626793  -28.603214  0.122793   \n",
            "3              3  0.030000  -142.506424  -82.574860  -28.611609  0.107153   \n",
            "4              4  0.040000  -142.531357  -82.607292  -28.613651  0.109885   \n",
            "...          ...       ...          ...         ...         ...       ...   \n",
            "360266  362273.0   3622.73    -57.89592 -109.174393   80.926117  0.143268   \n",
            "360267  362274.0   3622.74   -57.890739 -109.199669   80.924866  0.130871   \n",
            "360268  362275.0   3622.75   -57.899391 -109.210098   80.929321   0.13932   \n",
            "360269  362276.0   3622.76   -57.911377 -109.196503   80.934669  0.144694   \n",
            "360270  362277.0   3622.77   -57.907486   -109.2089   80.929405  0.138577   \n",
            "\n",
            "0         (0,0).x     (0,0).y   (0,1).z    (0,1).x  ...    (6,3).y  \\\n",
            "0       -6.055618  111.422829  0.246018  -4.840031  ...  56.634480   \n",
            "1       -6.037740  111.428177  0.238289  -4.858088  ...  56.620171   \n",
            "2       -6.029234  111.425743  0.246204  -4.831281  ...  56.635307   \n",
            "3       -6.053268  111.429611  0.242457  -4.838694  ...  56.632626   \n",
            "4       -6.040570  111.422935  0.237245  -4.842868  ...  56.633617   \n",
            "...           ...         ...       ...        ...  ...        ...   \n",
            "360266   -6.21768  111.562469   0.22302  -5.584734  ...  57.000389   \n",
            "360267  -6.223926  111.562775  0.228193  -5.575683  ...  57.004234   \n",
            "360268   -6.22658  111.563347  0.227484  -5.571443  ...  57.005505   \n",
            "360269  -6.225427  111.563507  0.222981  -5.574293  ...  56.998032   \n",
            "360270  -6.235932  111.558197  0.215337  -5.580284  ...  57.005512   \n",
            "\n",
            "0          (6,4).z    (6,4).x    (6,4).y     (6,5).z    (6,5).x    (6,5).y  \\\n",
            "0       111.549492  -0.901877  38.055607  111.667358  -0.069315  20.162601   \n",
            "1       111.560226  -0.925153  38.054649  111.650902  -0.064292  20.165237   \n",
            "2       111.557564  -0.915388  38.062931  111.659889  -0.062235  20.168221   \n",
            "3       111.555374  -0.910681  38.063046  111.661156  -0.065621  20.168636   \n",
            "4       111.557060  -0.901118  38.063900  111.654495  -0.072290  20.163052   \n",
            "...            ...        ...        ...         ...        ...        ...   \n",
            "360266  111.980377   -2.64454  38.333813  112.061172  -1.542882  20.445143   \n",
            "360267  111.988991  -2.625724  38.349957  112.053337  -1.553053  20.440714   \n",
            "360268  111.974678  -2.640985  38.335781   112.04718   -1.54499  20.448765   \n",
            "360269  111.982834  -2.637481  38.355053  112.065186  -1.541861  20.441687   \n",
            "360270  111.976357  -2.650497  38.346573   112.05793  -1.539868  20.440329   \n",
            "\n",
            "0          (6,6).z   (6,6).x   (6,6).y  \n",
            "0       111.236176  0.215745  2.807189  \n",
            "1       111.245331  0.221106  2.814611  \n",
            "2       111.243095  0.230533  2.819185  \n",
            "3       111.233139  0.234926  2.819762  \n",
            "4       111.233360  0.231689  2.817904  \n",
            "...            ...       ...       ...  \n",
            "360266  111.544304 -1.017077  3.023725  \n",
            "360267  111.541939 -1.018674  3.015442  \n",
            "360268  111.539406 -1.031303   3.01905  \n",
            "360269  111.539177 -1.025097  3.012718  \n",
            "360270  111.539047 -1.025674   3.01874  \n",
            "\n",
            "[360271 rows x 152 columns]\n"
          ]
        }
      ]
    }
  ]
}