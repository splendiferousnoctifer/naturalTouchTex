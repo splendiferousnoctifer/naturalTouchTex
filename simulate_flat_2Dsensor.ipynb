{
 "cells": [
  {
   "cell_type": "markdown",
   "metadata": {},
   "source": [
    "# Simulate a 2D sensor with realistic sizes. "
   ]
  },
  {
   "cell_type": "code",
   "execution_count": 1,
   "metadata": {},
   "outputs": [],
   "source": [
    "import numpy as np\n",
    "from scipy.interpolate import interp2d, SmoothBivariateSpline, RectBivariateSpline\n",
    "import matplotlib.pyplot as plt\n",
    "from matplotlib import cm\n",
    "\n",
    "w, h = 12, 12 # sensor size in centimeters\n",
    "p = (w/2+2 , h/2-3 , 1.75) # press position and depth in centimeters\n",
    "\n",
    "N = 6 # data points (sensors) in each dimension\n",
    "xs = np.linspace(0,w,N+2)[1:-1] # sensor position x in centimeters\n",
    "ys = np.linspace(0,h,N+2)[1:-1] # sensor position y in centimeters\n",
    "\n",
    "z = np.zeros((3,3))\n",
    "z[1,1] = p[2]\n",
    "f = interp2d([0, p[0], w], [0, p[1], h], z, kind='linear')\n",
    "zs = f( xs, ys )\n",
    "xs, ys = np.meshgrid(xs, ys)"
   ]
  },
  {
   "cell_type": "markdown",
   "metadata": {},
   "source": [
    "## display with plotly"
   ]
  },
  {
   "cell_type": "code",
   "execution_count": 2,
   "metadata": {},
   "outputs": [
    {
     "data": {
      "application/vnd.plotly.v1+json": {
       "config": {
        "plotlyServerURL": "https://plot.ly"
       },
       "data": [
        {
         "marker": {
          "color": "red",
          "size": 4
         },
         "mode": "markers",
         "type": "scatter3d",
         "x": [
          1.7142857142857142,
          3.4285714285714284,
          5.142857142857142,
          6.857142857142857,
          8.571428571428571,
          10.285714285714285,
          1.7142857142857142,
          3.4285714285714284,
          5.142857142857142,
          6.857142857142857,
          8.571428571428571,
          10.285714285714285,
          1.7142857142857142,
          3.4285714285714284,
          5.142857142857142,
          6.857142857142857,
          8.571428571428571,
          10.285714285714285,
          1.7142857142857142,
          3.4285714285714284,
          5.142857142857142,
          6.857142857142857,
          8.571428571428571,
          10.285714285714285,
          1.7142857142857142,
          3.4285714285714284,
          5.142857142857142,
          6.857142857142857,
          8.571428571428571,
          10.285714285714285,
          1.7142857142857142,
          3.4285714285714284,
          5.142857142857142,
          6.857142857142857,
          8.571428571428571,
          10.285714285714285
         ],
         "y": [
          1.7142857142857142,
          1.7142857142857142,
          1.7142857142857142,
          1.7142857142857142,
          1.7142857142857142,
          1.7142857142857142,
          3.4285714285714284,
          3.4285714285714284,
          3.4285714285714284,
          3.4285714285714284,
          3.4285714285714284,
          3.4285714285714284,
          5.142857142857142,
          5.142857142857142,
          5.142857142857142,
          5.142857142857142,
          5.142857142857142,
          5.142857142857142,
          6.857142857142857,
          6.857142857142857,
          6.857142857142857,
          6.857142857142857,
          6.857142857142857,
          6.857142857142857,
          8.571428571428571,
          8.571428571428571,
          8.571428571428571,
          8.571428571428571,
          8.571428571428571,
          8.571428571428571,
          10.285714285714285,
          10.285714285714285,
          10.285714285714285,
          10.285714285714285,
          10.285714285714285,
          10.285714285714285
         ],
         "z": [
          0.21428571428571427,
          0.42857142857142855,
          0.6428571428571428,
          0.8571428571428571,
          0.8571428571428571,
          0.4285714285714288,
          0.3571428571428571,
          0.7142857142857142,
          1.0714285714285714,
          1.4285714285714284,
          1.4285714285714284,
          0.7142857142857146,
          0.28571428571428575,
          0.5714285714285715,
          0.8571428571428572,
          1.142857142857143,
          1.142857142857143,
          0.5714285714285718,
          0.21428571428571427,
          0.42857142857142855,
          0.6428571428571428,
          0.8571428571428571,
          0.8571428571428571,
          0.4285714285714288,
          0.14285714285714288,
          0.28571428571428575,
          0.4285714285714286,
          0.5714285714285715,
          0.5714285714285715,
          0.2857142857142859,
          0.07142857142857147,
          0.14285714285714293,
          0.2142857142857144,
          0.28571428571428586,
          0.28571428571428586,
          0.14285714285714302
         ]
        }
       ],
       "layout": {
        "scene": {
         "xaxis": {
          "range": [
           0,
           12
          ]
         },
         "yaxis": {
          "range": [
           0,
           12
          ]
         },
         "zaxis": {
          "range": [
           0,
           1.75
          ]
         }
        },
        "template": {
         "data": {
          "bar": [
           {
            "error_x": {
             "color": "#2a3f5f"
            },
            "error_y": {
             "color": "#2a3f5f"
            },
            "marker": {
             "line": {
              "color": "#E5ECF6",
              "width": 0.5
             },
             "pattern": {
              "fillmode": "overlay",
              "size": 10,
              "solidity": 0.2
             }
            },
            "type": "bar"
           }
          ],
          "barpolar": [
           {
            "marker": {
             "line": {
              "color": "#E5ECF6",
              "width": 0.5
             },
             "pattern": {
              "fillmode": "overlay",
              "size": 10,
              "solidity": 0.2
             }
            },
            "type": "barpolar"
           }
          ],
          "carpet": [
           {
            "aaxis": {
             "endlinecolor": "#2a3f5f",
             "gridcolor": "white",
             "linecolor": "white",
             "minorgridcolor": "white",
             "startlinecolor": "#2a3f5f"
            },
            "baxis": {
             "endlinecolor": "#2a3f5f",
             "gridcolor": "white",
             "linecolor": "white",
             "minorgridcolor": "white",
             "startlinecolor": "#2a3f5f"
            },
            "type": "carpet"
           }
          ],
          "choropleth": [
           {
            "colorbar": {
             "outlinewidth": 0,
             "ticks": ""
            },
            "type": "choropleth"
           }
          ],
          "contour": [
           {
            "colorbar": {
             "outlinewidth": 0,
             "ticks": ""
            },
            "colorscale": [
             [
              0,
              "#0d0887"
             ],
             [
              0.1111111111111111,
              "#46039f"
             ],
             [
              0.2222222222222222,
              "#7201a8"
             ],
             [
              0.3333333333333333,
              "#9c179e"
             ],
             [
              0.4444444444444444,
              "#bd3786"
             ],
             [
              0.5555555555555556,
              "#d8576b"
             ],
             [
              0.6666666666666666,
              "#ed7953"
             ],
             [
              0.7777777777777778,
              "#fb9f3a"
             ],
             [
              0.8888888888888888,
              "#fdca26"
             ],
             [
              1,
              "#f0f921"
             ]
            ],
            "type": "contour"
           }
          ],
          "contourcarpet": [
           {
            "colorbar": {
             "outlinewidth": 0,
             "ticks": ""
            },
            "type": "contourcarpet"
           }
          ],
          "heatmap": [
           {
            "colorbar": {
             "outlinewidth": 0,
             "ticks": ""
            },
            "colorscale": [
             [
              0,
              "#0d0887"
             ],
             [
              0.1111111111111111,
              "#46039f"
             ],
             [
              0.2222222222222222,
              "#7201a8"
             ],
             [
              0.3333333333333333,
              "#9c179e"
             ],
             [
              0.4444444444444444,
              "#bd3786"
             ],
             [
              0.5555555555555556,
              "#d8576b"
             ],
             [
              0.6666666666666666,
              "#ed7953"
             ],
             [
              0.7777777777777778,
              "#fb9f3a"
             ],
             [
              0.8888888888888888,
              "#fdca26"
             ],
             [
              1,
              "#f0f921"
             ]
            ],
            "type": "heatmap"
           }
          ],
          "heatmapgl": [
           {
            "colorbar": {
             "outlinewidth": 0,
             "ticks": ""
            },
            "colorscale": [
             [
              0,
              "#0d0887"
             ],
             [
              0.1111111111111111,
              "#46039f"
             ],
             [
              0.2222222222222222,
              "#7201a8"
             ],
             [
              0.3333333333333333,
              "#9c179e"
             ],
             [
              0.4444444444444444,
              "#bd3786"
             ],
             [
              0.5555555555555556,
              "#d8576b"
             ],
             [
              0.6666666666666666,
              "#ed7953"
             ],
             [
              0.7777777777777778,
              "#fb9f3a"
             ],
             [
              0.8888888888888888,
              "#fdca26"
             ],
             [
              1,
              "#f0f921"
             ]
            ],
            "type": "heatmapgl"
           }
          ],
          "histogram": [
           {
            "marker": {
             "pattern": {
              "fillmode": "overlay",
              "size": 10,
              "solidity": 0.2
             }
            },
            "type": "histogram"
           }
          ],
          "histogram2d": [
           {
            "colorbar": {
             "outlinewidth": 0,
             "ticks": ""
            },
            "colorscale": [
             [
              0,
              "#0d0887"
             ],
             [
              0.1111111111111111,
              "#46039f"
             ],
             [
              0.2222222222222222,
              "#7201a8"
             ],
             [
              0.3333333333333333,
              "#9c179e"
             ],
             [
              0.4444444444444444,
              "#bd3786"
             ],
             [
              0.5555555555555556,
              "#d8576b"
             ],
             [
              0.6666666666666666,
              "#ed7953"
             ],
             [
              0.7777777777777778,
              "#fb9f3a"
             ],
             [
              0.8888888888888888,
              "#fdca26"
             ],
             [
              1,
              "#f0f921"
             ]
            ],
            "type": "histogram2d"
           }
          ],
          "histogram2dcontour": [
           {
            "colorbar": {
             "outlinewidth": 0,
             "ticks": ""
            },
            "colorscale": [
             [
              0,
              "#0d0887"
             ],
             [
              0.1111111111111111,
              "#46039f"
             ],
             [
              0.2222222222222222,
              "#7201a8"
             ],
             [
              0.3333333333333333,
              "#9c179e"
             ],
             [
              0.4444444444444444,
              "#bd3786"
             ],
             [
              0.5555555555555556,
              "#d8576b"
             ],
             [
              0.6666666666666666,
              "#ed7953"
             ],
             [
              0.7777777777777778,
              "#fb9f3a"
             ],
             [
              0.8888888888888888,
              "#fdca26"
             ],
             [
              1,
              "#f0f921"
             ]
            ],
            "type": "histogram2dcontour"
           }
          ],
          "mesh3d": [
           {
            "colorbar": {
             "outlinewidth": 0,
             "ticks": ""
            },
            "type": "mesh3d"
           }
          ],
          "parcoords": [
           {
            "line": {
             "colorbar": {
              "outlinewidth": 0,
              "ticks": ""
             }
            },
            "type": "parcoords"
           }
          ],
          "pie": [
           {
            "automargin": true,
            "type": "pie"
           }
          ],
          "scatter": [
           {
            "fillpattern": {
             "fillmode": "overlay",
             "size": 10,
             "solidity": 0.2
            },
            "type": "scatter"
           }
          ],
          "scatter3d": [
           {
            "line": {
             "colorbar": {
              "outlinewidth": 0,
              "ticks": ""
             }
            },
            "marker": {
             "colorbar": {
              "outlinewidth": 0,
              "ticks": ""
             }
            },
            "type": "scatter3d"
           }
          ],
          "scattercarpet": [
           {
            "marker": {
             "colorbar": {
              "outlinewidth": 0,
              "ticks": ""
             }
            },
            "type": "scattercarpet"
           }
          ],
          "scattergeo": [
           {
            "marker": {
             "colorbar": {
              "outlinewidth": 0,
              "ticks": ""
             }
            },
            "type": "scattergeo"
           }
          ],
          "scattergl": [
           {
            "marker": {
             "colorbar": {
              "outlinewidth": 0,
              "ticks": ""
             }
            },
            "type": "scattergl"
           }
          ],
          "scattermapbox": [
           {
            "marker": {
             "colorbar": {
              "outlinewidth": 0,
              "ticks": ""
             }
            },
            "type": "scattermapbox"
           }
          ],
          "scatterpolar": [
           {
            "marker": {
             "colorbar": {
              "outlinewidth": 0,
              "ticks": ""
             }
            },
            "type": "scatterpolar"
           }
          ],
          "scatterpolargl": [
           {
            "marker": {
             "colorbar": {
              "outlinewidth": 0,
              "ticks": ""
             }
            },
            "type": "scatterpolargl"
           }
          ],
          "scatterternary": [
           {
            "marker": {
             "colorbar": {
              "outlinewidth": 0,
              "ticks": ""
             }
            },
            "type": "scatterternary"
           }
          ],
          "surface": [
           {
            "colorbar": {
             "outlinewidth": 0,
             "ticks": ""
            },
            "colorscale": [
             [
              0,
              "#0d0887"
             ],
             [
              0.1111111111111111,
              "#46039f"
             ],
             [
              0.2222222222222222,
              "#7201a8"
             ],
             [
              0.3333333333333333,
              "#9c179e"
             ],
             [
              0.4444444444444444,
              "#bd3786"
             ],
             [
              0.5555555555555556,
              "#d8576b"
             ],
             [
              0.6666666666666666,
              "#ed7953"
             ],
             [
              0.7777777777777778,
              "#fb9f3a"
             ],
             [
              0.8888888888888888,
              "#fdca26"
             ],
             [
              1,
              "#f0f921"
             ]
            ],
            "type": "surface"
           }
          ],
          "table": [
           {
            "cells": {
             "fill": {
              "color": "#EBF0F8"
             },
             "line": {
              "color": "white"
             }
            },
            "header": {
             "fill": {
              "color": "#C8D4E3"
             },
             "line": {
              "color": "white"
             }
            },
            "type": "table"
           }
          ]
         },
         "layout": {
          "annotationdefaults": {
           "arrowcolor": "#2a3f5f",
           "arrowhead": 0,
           "arrowwidth": 1
          },
          "autotypenumbers": "strict",
          "coloraxis": {
           "colorbar": {
            "outlinewidth": 0,
            "ticks": ""
           }
          },
          "colorscale": {
           "diverging": [
            [
             0,
             "#8e0152"
            ],
            [
             0.1,
             "#c51b7d"
            ],
            [
             0.2,
             "#de77ae"
            ],
            [
             0.3,
             "#f1b6da"
            ],
            [
             0.4,
             "#fde0ef"
            ],
            [
             0.5,
             "#f7f7f7"
            ],
            [
             0.6,
             "#e6f5d0"
            ],
            [
             0.7,
             "#b8e186"
            ],
            [
             0.8,
             "#7fbc41"
            ],
            [
             0.9,
             "#4d9221"
            ],
            [
             1,
             "#276419"
            ]
           ],
           "sequential": [
            [
             0,
             "#0d0887"
            ],
            [
             0.1111111111111111,
             "#46039f"
            ],
            [
             0.2222222222222222,
             "#7201a8"
            ],
            [
             0.3333333333333333,
             "#9c179e"
            ],
            [
             0.4444444444444444,
             "#bd3786"
            ],
            [
             0.5555555555555556,
             "#d8576b"
            ],
            [
             0.6666666666666666,
             "#ed7953"
            ],
            [
             0.7777777777777778,
             "#fb9f3a"
            ],
            [
             0.8888888888888888,
             "#fdca26"
            ],
            [
             1,
             "#f0f921"
            ]
           ],
           "sequentialminus": [
            [
             0,
             "#0d0887"
            ],
            [
             0.1111111111111111,
             "#46039f"
            ],
            [
             0.2222222222222222,
             "#7201a8"
            ],
            [
             0.3333333333333333,
             "#9c179e"
            ],
            [
             0.4444444444444444,
             "#bd3786"
            ],
            [
             0.5555555555555556,
             "#d8576b"
            ],
            [
             0.6666666666666666,
             "#ed7953"
            ],
            [
             0.7777777777777778,
             "#fb9f3a"
            ],
            [
             0.8888888888888888,
             "#fdca26"
            ],
            [
             1,
             "#f0f921"
            ]
           ]
          },
          "colorway": [
           "#636efa",
           "#EF553B",
           "#00cc96",
           "#ab63fa",
           "#FFA15A",
           "#19d3f3",
           "#FF6692",
           "#B6E880",
           "#FF97FF",
           "#FECB52"
          ],
          "font": {
           "color": "#2a3f5f"
          },
          "geo": {
           "bgcolor": "white",
           "lakecolor": "white",
           "landcolor": "#E5ECF6",
           "showlakes": true,
           "showland": true,
           "subunitcolor": "white"
          },
          "hoverlabel": {
           "align": "left"
          },
          "hovermode": "closest",
          "mapbox": {
           "style": "light"
          },
          "paper_bgcolor": "white",
          "plot_bgcolor": "#E5ECF6",
          "polar": {
           "angularaxis": {
            "gridcolor": "white",
            "linecolor": "white",
            "ticks": ""
           },
           "bgcolor": "#E5ECF6",
           "radialaxis": {
            "gridcolor": "white",
            "linecolor": "white",
            "ticks": ""
           }
          },
          "scene": {
           "xaxis": {
            "backgroundcolor": "#E5ECF6",
            "gridcolor": "white",
            "gridwidth": 2,
            "linecolor": "white",
            "showbackground": true,
            "ticks": "",
            "zerolinecolor": "white"
           },
           "yaxis": {
            "backgroundcolor": "#E5ECF6",
            "gridcolor": "white",
            "gridwidth": 2,
            "linecolor": "white",
            "showbackground": true,
            "ticks": "",
            "zerolinecolor": "white"
           },
           "zaxis": {
            "backgroundcolor": "#E5ECF6",
            "gridcolor": "white",
            "gridwidth": 2,
            "linecolor": "white",
            "showbackground": true,
            "ticks": "",
            "zerolinecolor": "white"
           }
          },
          "shapedefaults": {
           "line": {
            "color": "#2a3f5f"
           }
          },
          "ternary": {
           "aaxis": {
            "gridcolor": "white",
            "linecolor": "white",
            "ticks": ""
           },
           "baxis": {
            "gridcolor": "white",
            "linecolor": "white",
            "ticks": ""
           },
           "bgcolor": "#E5ECF6",
           "caxis": {
            "gridcolor": "white",
            "linecolor": "white",
            "ticks": ""
           }
          },
          "title": {
           "x": 0.05
          },
          "xaxis": {
           "automargin": true,
           "gridcolor": "white",
           "linecolor": "white",
           "ticks": "",
           "title": {
            "standoff": 15
           },
           "zerolinecolor": "white",
           "zerolinewidth": 2
          },
          "yaxis": {
           "automargin": true,
           "gridcolor": "white",
           "linecolor": "white",
           "ticks": "",
           "title": {
            "standoff": 15
           },
           "zerolinecolor": "white",
           "zerolinewidth": 2
          }
         }
        }
       }
      }
     },
     "metadata": {},
     "output_type": "display_data"
    }
   ],
   "source": [
    "import plotly.graph_objects as go\n",
    "\n",
    "# Create figure\n",
    "fig = go.Figure(data=\n",
    "    [go.Scatter3d(x=xs.flatten(), y=ys.flatten(), z=zs.flatten(), mode=\"markers\", marker=dict(color=\"red\", size=4))]\n",
    ")\n",
    "\n",
    "fig.update_layout(\n",
    "    scene=dict(\n",
    "        xaxis=dict(            range=[0, w],        ),\n",
    "        yaxis=dict(            range=[0, h],        ),\n",
    "        zaxis=dict(            range=[0, p[2]],        ),\n",
    "    )\n",
    ")\n",
    "\n",
    "fig.show()"
   ]
  },
  {
   "cell_type": "markdown",
   "metadata": {},
   "source": [
    "## Resconstruct the peak (pressing) position from the simulated data by using the z value (height) of each sensor."
   ]
  },
  {
   "cell_type": "code",
   "execution_count": 3,
   "metadata": {},
   "outputs": [
    {
     "name": "stdout",
     "output_type": "stream",
     "text": [
      "0.0\n",
      "ground truth at (8.0, 3.0, 1.75).\n",
      "optimization at [7.99999982 3.00000685 1.7499988 ] with an error of 2.0386050508737898e-11.\n"
     ]
    }
   ],
   "source": [
    "from scipy.optimize import minimize\n",
    "\n",
    "def min_fun(p, xs, ys, zs, w,h) -> float:\n",
    "    z = np.zeros((3,3))\n",
    "    z[1,1] = p[2]\n",
    "    f = interp2d([0, p[0], w], [0, p[1], h], z, kind='linear')\n",
    "    zs_ = np.zeros_like(zs.flatten())\n",
    "    for i in range(len(zs_)):\n",
    "        zs_[i] = f(xs.flatten()[i], ys.flatten()[i])\n",
    "\n",
    "    return np.sum(((zs.flatten() - zs_)**2))\n",
    "\n",
    "# test the minimization function\n",
    "print(min_fun(p, xs, ys, zs, w,h))\n",
    "print(f\"ground truth at {p}.\")\n",
    "\n",
    "res = minimize(min_fun, x0=[xs[1,1],ys[1,1],zs[1,1]], args=(xs, ys, zs, w,h))\n",
    "print(f\"optimization at {res.x} with an error of {res.fun}.\")\n",
    "\n",
    "# the starting point (x0) must be within the range of the sensors! Otherwise the minimization will fail."
   ]
  },
  {
   "cell_type": "markdown",
   "metadata": {},
   "source": [
    "## use only a subset of the sensors to reconstruct the peak position"
   ]
  },
  {
   "cell_type": "code",
   "execution_count": 4,
   "metadata": {},
   "outputs": [
    {
     "name": "stdout",
     "output_type": "stream",
     "text": [
      "      fun: 0.07527601204416214\n",
      " hess_inv: array([[10.30472128, -5.94316147,  1.54094845],\n",
      "       [-5.94316147,  4.70204445, -1.02825411],\n",
      "       [ 1.54094845, -1.02825411,  1.17214331]])\n",
      "      jac: array([-9.31322575e-10, -9.31322575e-10,  0.00000000e+00])\n",
      "  message: 'Optimization terminated successfully.'\n",
      "     nfev: 76\n",
      "      nit: 15\n",
      "     njev: 19\n",
      "   status: 0\n",
      "  success: True\n",
      "        x: array([7.02040812, 1.12723548, 1.8552733 ])\n"
     ]
    }
   ],
   "source": [
    "import random\n",
    "\n",
    "# only a subset of the sensors are used for the minimization.\n",
    "# When selecting a subset of the sensors it can happen that they are only on one side of the pressure point\n",
    "# thus the minimization will not work.\n",
    "\n",
    "k = 4\n",
    "subset = random.choices(range(N*N), k=k)\n",
    "\n",
    "res = minimize(min_fun, x0=[xs[1,1],ys[1,1],zs[1,1]], args=(xs.flatten()[subset], ys.flatten()[subset], zs.flatten()[subset], w,h))\n",
    "print(res)"
   ]
  },
  {
   "cell_type": "markdown",
   "metadata": {},
   "source": [
    "# Adding noise to the simulated data to verify how robust the reconstruction is."
   ]
  },
  {
   "cell_type": "code",
   "execution_count": 5,
   "metadata": {},
   "outputs": [
    {
     "name": "stdout",
     "output_type": "stream",
     "text": [
      "ground truth at (8.0, 3.0, 1.75).\n",
      "optimization with a noise level (std=0.1) at [8.04044015 2.78534255 1.77766048] with an error of 0.31679187493348326.\n"
     ]
    }
   ],
   "source": [
    "print(f\"ground truth at {p}.\")\n",
    "\n",
    "std = 0.1\n",
    "nx, ny, nz = np.random.normal(0,std,xs.shape), np.random.normal(0,std,ys.shape), np.random.normal(0,std,zs.shape)\n",
    "\n",
    "res = minimize(min_fun, x0=[xs[1,1],ys[1,1],zs[1,1]], args=(xs+nx, ys+ny, zs+nz, w,h))\n",
    "print(f\"optimization with a noise level (std={std}) at {res.x} with an error of {res.fun}.\")"
   ]
  }
 ],
 "metadata": {
  "kernelspec": {
   "display_name": "Python 3.9.12 64-bit",
   "language": "python",
   "name": "python3"
  },
  "language_info": {
   "codemirror_mode": {
    "name": "ipython",
    "version": 3
   },
   "file_extension": ".py",
   "mimetype": "text/x-python",
   "name": "python",
   "nbconvert_exporter": "python",
   "pygments_lexer": "ipython3",
   "version": "3.9.12"
  },
  "orig_nbformat": 4,
  "vscode": {
   "interpreter": {
    "hash": "0a05e4fa746b81761c76a645b508c0f51cdd970f4b4b50ae36c6a73f9a174174"
   }
  }
 },
 "nbformat": 4,
 "nbformat_minor": 2
}
